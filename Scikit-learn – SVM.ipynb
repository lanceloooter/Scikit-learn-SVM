{
 "cells": [
  {
   "cell_type": "markdown",
   "id": "146d814e-52ae-4e5d-8ebe-44f6eaf2503d",
   "metadata": {},
   "source": [
    "### Scikit-learn – SVM\n",
    "##### Submitted by: Lance Dominic C. Raquel "
   ]
  },
  {
   "cell_type": "markdown",
   "id": "cf7ec9af-8f83-4a9d-9c47-15f823962002",
   "metadata": {},
   "source": [
    "##### Part I – Importing the Dataset (5 pts.)"
   ]
  },
  {
   "cell_type": "code",
   "execution_count": 1,
   "id": "007f944b-f99e-4e7f-a316-a00e54092558",
   "metadata": {
    "tags": []
   },
   "outputs": [],
   "source": [
    "import pandas as pd\n",
    "import numpy as np\n",
    "import matplotlib.pyplot as plt\n",
    "import seaborn as sns\n",
    "import warnings\n",
    "import sklearn.cluster as cluster\n",
    "from sklearn.model_selection import train_test_split\n",
    "from sklearn.preprocessing import StandardScaler\n",
    "from sklearn.linear_model import LogisticRegression\n",
    "from sklearn.metrics import accuracy_score\n",
    "from matplotlib.colors import ListedColormap\n",
    "from sklearn.svm import SVC\n",
    "warnings.filterwarnings(\"ignore\")"
   ]
  },
  {
   "cell_type": "markdown",
   "id": "07b9363c-a2df-4f0c-a6e6-3901c91650ae",
   "metadata": {},
   "source": [
    "##### 1.) Import the Iris data by:\n",
    "df = pd.read_csv('https://archive.ics.uci.edu/ml/'\n",
    "        'machine-learning-databases/iris/iris.data', header=None) r iris = datasets.load_iris() \n"
   ]
  },
  {
   "cell_type": "code",
   "execution_count": 2,
   "id": "2f690eb3-7b59-4fd7-be32-f5bd6d9c69a8",
   "metadata": {
    "tags": []
   },
   "outputs": [
    {
     "data": {
      "text/html": [
       "<div>\n",
       "<style scoped>\n",
       "    .dataframe tbody tr th:only-of-type {\n",
       "        vertical-align: middle;\n",
       "    }\n",
       "\n",
       "    .dataframe tbody tr th {\n",
       "        vertical-align: top;\n",
       "    }\n",
       "\n",
       "    .dataframe thead th {\n",
       "        text-align: right;\n",
       "    }\n",
       "</style>\n",
       "<table border=\"1\" class=\"dataframe\">\n",
       "  <thead>\n",
       "    <tr style=\"text-align: right;\">\n",
       "      <th></th>\n",
       "      <th>0</th>\n",
       "      <th>1</th>\n",
       "      <th>2</th>\n",
       "      <th>3</th>\n",
       "      <th>4</th>\n",
       "    </tr>\n",
       "  </thead>\n",
       "  <tbody>\n",
       "    <tr>\n",
       "      <th>0</th>\n",
       "      <td>5.1</td>\n",
       "      <td>3.5</td>\n",
       "      <td>1.4</td>\n",
       "      <td>0.2</td>\n",
       "      <td>Iris-setosa</td>\n",
       "    </tr>\n",
       "    <tr>\n",
       "      <th>1</th>\n",
       "      <td>4.9</td>\n",
       "      <td>3.0</td>\n",
       "      <td>1.4</td>\n",
       "      <td>0.2</td>\n",
       "      <td>Iris-setosa</td>\n",
       "    </tr>\n",
       "    <tr>\n",
       "      <th>2</th>\n",
       "      <td>4.7</td>\n",
       "      <td>3.2</td>\n",
       "      <td>1.3</td>\n",
       "      <td>0.2</td>\n",
       "      <td>Iris-setosa</td>\n",
       "    </tr>\n",
       "    <tr>\n",
       "      <th>3</th>\n",
       "      <td>4.6</td>\n",
       "      <td>3.1</td>\n",
       "      <td>1.5</td>\n",
       "      <td>0.2</td>\n",
       "      <td>Iris-setosa</td>\n",
       "    </tr>\n",
       "    <tr>\n",
       "      <th>4</th>\n",
       "      <td>5.0</td>\n",
       "      <td>3.6</td>\n",
       "      <td>1.4</td>\n",
       "      <td>0.2</td>\n",
       "      <td>Iris-setosa</td>\n",
       "    </tr>\n",
       "    <tr>\n",
       "      <th>...</th>\n",
       "      <td>...</td>\n",
       "      <td>...</td>\n",
       "      <td>...</td>\n",
       "      <td>...</td>\n",
       "      <td>...</td>\n",
       "    </tr>\n",
       "    <tr>\n",
       "      <th>145</th>\n",
       "      <td>6.7</td>\n",
       "      <td>3.0</td>\n",
       "      <td>5.2</td>\n",
       "      <td>2.3</td>\n",
       "      <td>Iris-virginica</td>\n",
       "    </tr>\n",
       "    <tr>\n",
       "      <th>146</th>\n",
       "      <td>6.3</td>\n",
       "      <td>2.5</td>\n",
       "      <td>5.0</td>\n",
       "      <td>1.9</td>\n",
       "      <td>Iris-virginica</td>\n",
       "    </tr>\n",
       "    <tr>\n",
       "      <th>147</th>\n",
       "      <td>6.5</td>\n",
       "      <td>3.0</td>\n",
       "      <td>5.2</td>\n",
       "      <td>2.0</td>\n",
       "      <td>Iris-virginica</td>\n",
       "    </tr>\n",
       "    <tr>\n",
       "      <th>148</th>\n",
       "      <td>6.2</td>\n",
       "      <td>3.4</td>\n",
       "      <td>5.4</td>\n",
       "      <td>2.3</td>\n",
       "      <td>Iris-virginica</td>\n",
       "    </tr>\n",
       "    <tr>\n",
       "      <th>149</th>\n",
       "      <td>5.9</td>\n",
       "      <td>3.0</td>\n",
       "      <td>5.1</td>\n",
       "      <td>1.8</td>\n",
       "      <td>Iris-virginica</td>\n",
       "    </tr>\n",
       "  </tbody>\n",
       "</table>\n",
       "<p>150 rows × 5 columns</p>\n",
       "</div>"
      ],
      "text/plain": [
       "       0    1    2    3               4\n",
       "0    5.1  3.5  1.4  0.2     Iris-setosa\n",
       "1    4.9  3.0  1.4  0.2     Iris-setosa\n",
       "2    4.7  3.2  1.3  0.2     Iris-setosa\n",
       "3    4.6  3.1  1.5  0.2     Iris-setosa\n",
       "4    5.0  3.6  1.4  0.2     Iris-setosa\n",
       "..   ...  ...  ...  ...             ...\n",
       "145  6.7  3.0  5.2  2.3  Iris-virginica\n",
       "146  6.3  2.5  5.0  1.9  Iris-virginica\n",
       "147  6.5  3.0  5.2  2.0  Iris-virginica\n",
       "148  6.2  3.4  5.4  2.3  Iris-virginica\n",
       "149  5.9  3.0  5.1  1.8  Iris-virginica\n",
       "\n",
       "[150 rows x 5 columns]"
      ]
     },
     "execution_count": 2,
     "metadata": {},
     "output_type": "execute_result"
    }
   ],
   "source": [
    "df = pd.read_csv('https://archive.ics.uci.edu/ml/' 'machine-learning-databases/iris/iris.data', header=None)\n",
    "df"
   ]
  },
  {
   "cell_type": "markdown",
   "id": "86b1ccb0-f5bc-4eb5-9579-95c496b4adbe",
   "metadata": {},
   "source": [
    "##### 2. Choose petal width (4th feature) and sepal width (2nd feature) as features of the data."
   ]
  },
  {
   "cell_type": "code",
   "execution_count": 3,
   "id": "b36f257d-7994-4340-919d-6d4d018a1c28",
   "metadata": {},
   "outputs": [],
   "source": [
    "X = df.loc[:,[1,3]].values"
   ]
  },
  {
   "cell_type": "markdown",
   "id": "587ee897-6b2a-405a-8b6f-ebb61ff6ab2a",
   "metadata": {},
   "source": [
    "##### 3. Print the different class labels."
   ]
  },
  {
   "cell_type": "code",
   "execution_count": 4,
   "id": "75afef8f-c815-4b10-b9b5-4d2892345162",
   "metadata": {
    "tags": []
   },
   "outputs": [
    {
     "data": {
      "text/plain": [
       "0      0.0\n",
       "1      0.0\n",
       "2      0.0\n",
       "3      0.0\n",
       "4      0.0\n",
       "      ... \n",
       "145    2.0\n",
       "146    2.0\n",
       "147    2.0\n",
       "148    2.0\n",
       "149    2.0\n",
       "Name: 4, Length: 150, dtype: float64"
      ]
     },
     "execution_count": 4,
     "metadata": {},
     "output_type": "execute_result"
    }
   ],
   "source": [
    "y = df[4].replace({'Iris-setosa': 0, 'Iris-versicolor': 1, 'Iris-virginica': 2}).astype(float)\n",
    "y"
   ]
  },
  {
   "cell_type": "markdown",
   "id": "9074c7cf-21e5-4696-a631-984607f00bf8",
   "metadata": {},
   "source": [
    "##### Part II – Training the SVM  (5 pts.)"
   ]
  },
  {
   "cell_type": "markdown",
   "id": "bef5c5d8-801a-4426-9672-ab8d4e1f7e6e",
   "metadata": {},
   "source": [
    "##### 1. Split the dataset to training data and test set with 30% test size and random state 3."
   ]
  },
  {
   "cell_type": "code",
   "execution_count": 22,
   "id": "4e9ecbce-a136-4904-946b-a3709173d6ec",
   "metadata": {
    "tags": []
   },
   "outputs": [
    {
     "name": "stdout",
     "output_type": "stream",
     "text": [
      "Labels count in y_train: [35 35 35]\n",
      "Labels count in y_test: [15 15 15]\n"
     ]
    }
   ],
   "source": [
    "X_train, X_test, y_train, y_test = train_test_split(X, y, test_size = 0.3, random_state = 3, stratify = y)\n",
    "print('Labels count in y_train:', np.bincount(y_train))\n",
    "print('Labels count in y_test:', np.bincount(y_test))"
   ]
  },
  {
   "cell_type": "markdown",
   "id": "1bceedd6-d92e-447f-9251-361bfd51a376",
   "metadata": {},
   "source": [
    "##### 2. Implement the feature scaling method."
   ]
  },
  {
   "cell_type": "code",
   "execution_count": 23,
   "id": "5b0d25d4-0e37-45fb-9a93-e4d66b3ea8bc",
   "metadata": {
    "tags": []
   },
   "outputs": [],
   "source": [
    "sc = StandardScaler()\n",
    "sc.fit(X_train)\n",
    "X_train_std = sc.transform(X_train)\n",
    "X_test_std = sc.transform(X_test)"
   ]
  },
  {
   "cell_type": "markdown",
   "id": "fe72b752-fe4e-4f1a-872f-ea251132a3d6",
   "metadata": {},
   "source": [
    "##### 3. Train the SVM by fitting the train data set using the SVC class and fit method from the sklearn.svm with linear Kernel, parameter C=1.0, and  random_state=3"
   ]
  },
  {
   "cell_type": "code",
   "execution_count": 24,
   "id": "651675c2-4036-446e-99fc-2418331cca3e",
   "metadata": {},
   "outputs": [
    {
     "data": {
      "text/html": [
       "<style>#sk-container-id-4 {color: black;background-color: white;}#sk-container-id-4 pre{padding: 0;}#sk-container-id-4 div.sk-toggleable {background-color: white;}#sk-container-id-4 label.sk-toggleable__label {cursor: pointer;display: block;width: 100%;margin-bottom: 0;padding: 0.3em;box-sizing: border-box;text-align: center;}#sk-container-id-4 label.sk-toggleable__label-arrow:before {content: \"▸\";float: left;margin-right: 0.25em;color: #696969;}#sk-container-id-4 label.sk-toggleable__label-arrow:hover:before {color: black;}#sk-container-id-4 div.sk-estimator:hover label.sk-toggleable__label-arrow:before {color: black;}#sk-container-id-4 div.sk-toggleable__content {max-height: 0;max-width: 0;overflow: hidden;text-align: left;background-color: #f0f8ff;}#sk-container-id-4 div.sk-toggleable__content pre {margin: 0.2em;color: black;border-radius: 0.25em;background-color: #f0f8ff;}#sk-container-id-4 input.sk-toggleable__control:checked~div.sk-toggleable__content {max-height: 200px;max-width: 100%;overflow: auto;}#sk-container-id-4 input.sk-toggleable__control:checked~label.sk-toggleable__label-arrow:before {content: \"▾\";}#sk-container-id-4 div.sk-estimator input.sk-toggleable__control:checked~label.sk-toggleable__label {background-color: #d4ebff;}#sk-container-id-4 div.sk-label input.sk-toggleable__control:checked~label.sk-toggleable__label {background-color: #d4ebff;}#sk-container-id-4 input.sk-hidden--visually {border: 0;clip: rect(1px 1px 1px 1px);clip: rect(1px, 1px, 1px, 1px);height: 1px;margin: -1px;overflow: hidden;padding: 0;position: absolute;width: 1px;}#sk-container-id-4 div.sk-estimator {font-family: monospace;background-color: #f0f8ff;border: 1px dotted black;border-radius: 0.25em;box-sizing: border-box;margin-bottom: 0.5em;}#sk-container-id-4 div.sk-estimator:hover {background-color: #d4ebff;}#sk-container-id-4 div.sk-parallel-item::after {content: \"\";width: 100%;border-bottom: 1px solid gray;flex-grow: 1;}#sk-container-id-4 div.sk-label:hover label.sk-toggleable__label {background-color: #d4ebff;}#sk-container-id-4 div.sk-serial::before {content: \"\";position: absolute;border-left: 1px solid gray;box-sizing: border-box;top: 0;bottom: 0;left: 50%;z-index: 0;}#sk-container-id-4 div.sk-serial {display: flex;flex-direction: column;align-items: center;background-color: white;padding-right: 0.2em;padding-left: 0.2em;position: relative;}#sk-container-id-4 div.sk-item {position: relative;z-index: 1;}#sk-container-id-4 div.sk-parallel {display: flex;align-items: stretch;justify-content: center;background-color: white;position: relative;}#sk-container-id-4 div.sk-item::before, #sk-container-id-4 div.sk-parallel-item::before {content: \"\";position: absolute;border-left: 1px solid gray;box-sizing: border-box;top: 0;bottom: 0;left: 50%;z-index: -1;}#sk-container-id-4 div.sk-parallel-item {display: flex;flex-direction: column;z-index: 1;position: relative;background-color: white;}#sk-container-id-4 div.sk-parallel-item:first-child::after {align-self: flex-end;width: 50%;}#sk-container-id-4 div.sk-parallel-item:last-child::after {align-self: flex-start;width: 50%;}#sk-container-id-4 div.sk-parallel-item:only-child::after {width: 0;}#sk-container-id-4 div.sk-dashed-wrapped {border: 1px dashed gray;margin: 0 0.4em 0.5em 0.4em;box-sizing: border-box;padding-bottom: 0.4em;background-color: white;}#sk-container-id-4 div.sk-label label {font-family: monospace;font-weight: bold;display: inline-block;line-height: 1.2em;}#sk-container-id-4 div.sk-label-container {text-align: center;}#sk-container-id-4 div.sk-container {/* jupyter's `normalize.less` sets `[hidden] { display: none; }` but bootstrap.min.css set `[hidden] { display: none !important; }` so we also need the `!important` here to be able to override the default hidden behavior on the sphinx rendered scikit-learn.org. See: https://github.com/scikit-learn/scikit-learn/issues/21755 */display: inline-block !important;position: relative;}#sk-container-id-4 div.sk-text-repr-fallback {display: none;}</style><div id=\"sk-container-id-4\" class=\"sk-top-container\"><div class=\"sk-text-repr-fallback\"><pre>SVC(kernel=&#x27;linear&#x27;, random_state=3)</pre><b>In a Jupyter environment, please rerun this cell to show the HTML representation or trust the notebook. <br />On GitHub, the HTML representation is unable to render, please try loading this page with nbviewer.org.</b></div><div class=\"sk-container\" hidden><div class=\"sk-item\"><div class=\"sk-estimator sk-toggleable\"><input class=\"sk-toggleable__control sk-hidden--visually\" id=\"sk-estimator-id-4\" type=\"checkbox\" checked><label for=\"sk-estimator-id-4\" class=\"sk-toggleable__label sk-toggleable__label-arrow\">SVC</label><div class=\"sk-toggleable__content\"><pre>SVC(kernel=&#x27;linear&#x27;, random_state=3)</pre></div></div></div></div></div>"
      ],
      "text/plain": [
       "SVC(kernel='linear', random_state=3)"
      ]
     },
     "execution_count": 24,
     "metadata": {},
     "output_type": "execute_result"
    }
   ],
   "source": [
    "svm = SVC (kernel = 'linear', C = 1.0, random_state = 3)\n",
    "svm.fit(X_train_std, y_train)"
   ]
  },
  {
   "cell_type": "markdown",
   "id": "046006e8-b821-4c33-87a6-810f5e0e0123",
   "metadata": {},
   "source": [
    "##### Part III – Evaluate the SVM Model  (5 pts.)"
   ]
  },
  {
   "cell_type": "markdown",
   "id": "d505a262-358d-483e-892f-8112d3e1d0c1",
   "metadata": {},
   "source": [
    "##### 1. Count the number of misclassified samples."
   ]
  },
  {
   "cell_type": "code",
   "execution_count": 34,
   "id": "9e9e948a-e1e6-4d6e-bae4-eed0286bc223",
   "metadata": {
    "tags": []
   },
   "outputs": [
    {
     "name": "stdout",
     "output_type": "stream",
     "text": [
      "Misclassified Samples 4\n"
     ]
    }
   ],
   "source": [
    "y_pred = svm.predict(X_test_std)\n",
    "\n",
    "misclassified = (y_test !=y_pred).sum()\n",
    "print('Misclassified Samples', misclassified)"
   ]
  },
  {
   "cell_type": "markdown",
   "id": "d59e05c0-c21c-4f4b-8bd1-6d1afd69ed6d",
   "metadata": {},
   "source": [
    "##### 2. Print the accuracy of the Perceptron model."
   ]
  },
  {
   "cell_type": "code",
   "execution_count": 26,
   "id": "cb93b2b8-ba49-445b-90b2-2669b55b3944",
   "metadata": {
    "tags": []
   },
   "outputs": [
    {
     "name": "stdout",
     "output_type": "stream",
     "text": [
      "Perceptron Model Accuracy 0.9111111111111111\n"
     ]
    }
   ],
   "source": [
    "accuracy = accuracy_score(y_test, y_pred)\n",
    "print('Perceptron Model Accuracy', accuracy)"
   ]
  },
  {
   "cell_type": "markdown",
   "id": "a2d10a00-0c37-496a-87ba-ca0fcddedda6",
   "metadata": {},
   "source": [
    "Part IV – Plotting the decision regions and the Data  (15 pts.)\n",
    "1. Plot the different decision regions using Matplot. Set the sepal width (standardized) as the x-axis and the petal width (standardized) as the y-axis\n",
    "2. Visualize how well the decision regions separate the different samples in the plot. Use different colors and markers for the different class types for the scatter plot of the samples.\n",
    "3. Highlight the test samples by encircling them.\n",
    "4. Highlight the misclassified samples in the test by encircling them with red.\n",
    "5. Put a legend that labels the class types of the different shapes in the scatter plot.\n"
   ]
  },
  {
   "cell_type": "code",
   "execution_count": 36,
   "id": "e4098c91-8537-4257-9d37-af3a79856808",
   "metadata": {
    "tags": []
   },
   "outputs": [
    {
     "data": {
      "image/png": "[encoded data removed]",
      "text/plain": [
       "<Figure size 640x480 with 1 Axes>"
      ]
     },
     "metadata": {},
     "output_type": "display_data"
    }
   ],
   "source": [
    "def plot_decision_regions(X, y, classifier, test_idx=None, resolution=0.02):\n",
    "    markers = ('p', 'x', 'o', '^', 'v')\n",
    "    colors = ('red', 'blue', 'gray', 'cyan')\n",
    "    cmap = ListedColormap(colors[:len(np.unique(y))])\n",
    "\n",
    "    x1_min, x1_max = X[:, 0].min() - 1, X[:, 0].max() + 1\n",
    "    x2_min, x2_max = X[:, 1].min() - 1, X[:, 1].max() + 1\n",
    "    xx1, xx2 = np.meshgrid(np.arange(x1_min, x1_max, resolution),\n",
    "                          np.arange(x2_min, x2_max, resolution))\n",
    "    Z = classifier.predict(np.array([xx1.ravel(), xx2.ravel()]).T)\n",
    "    Z = Z.reshape(xx1.shape)\n",
    "\n",
    "    plt.contourf(xx1, xx2, Z, alpha=0.3, cmap=cmap)\n",
    "    plt.xlim(xx1.min(), xx1.max())\n",
    "    plt.ylim(xx2.min(), xx2.max())\n",
    "    \n",
    "    for idx, cl in enumerate(np.unique(y)):\n",
    "        plt.scatter(x=X[y == cl, 0], y=X[y == cl, 1], alpha=0.8,\n",
    "                    c=colors[idx], marker=markers[idx], label=cl,\n",
    "                    edgecolor='black')\n",
    "\n",
    "    if test_idx:\n",
    "        X_test, y_test = X[test_idx], y[test_idx]\n",
    "        plt.scatter(X_test[:, 0], X_test[:, 1], c='none', edgecolor='black',\n",
    "                    alpha=1.0, linewidth=1, marker='o', s=100, label='test set')\n",
    "        \n",
    "    if test_idx:\n",
    "        misclassified_indices = (y_test !=y_pred)\n",
    "        plt.scatter(X_test[misclassified, 0], X_test[misclassified, 1], c='none', edgecolor='red',\n",
    "                    alpha=1.0, linewidth=1, marker='o', s=100, label='misclassified')\n",
    "        \n",
    "\n",
    "X_combined_std = np.vstack((X_train_std, X_test_std))\n",
    "y_combined = np.hstack((y_train, y_test))\n",
    "\n",
    "\n",
    "plot_decision_regions(X=X_combined_std, y=y_combined, classifier=svm, test_idx=range(30, 70))\n",
    "\n",
    "plt.xlabel('petal length [standardized]')\n",
    "plt.ylabel('petal width [standardized]')\n",
    "\n",
    "\n",
    "plt.legend(loc='lower right')\n",
    "\n",
    "plt.show()"
   ]
  }
 ],
 "metadata": {
  "kernelspec": {
   "display_name": "Python 3 (ipykernel)",
   "language": "python",
   "name": "python3"
  },
  "language_info": {
   "codemirror_mode": {
    "name": "ipython",
    "version": 3
   },
   "file_extension": ".py",
   "mimetype": "text/x-python",
   "name": "python",
   "nbconvert_exporter": "python",
   "pygments_lexer": "ipython3",
   "version": "3.11.7"
  },
  "widgets": {
   "application/vnd.jupyter.widget-state+json": {
    "state": {},
    "version_major": 2,
    "version_minor": 0
   }
  }
 },
 "nbformat": 4,
 "nbformat_minor": 5
}
